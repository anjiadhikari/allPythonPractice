{
 "cells": [
  {
   "cell_type": "code",
   "execution_count": 60,
   "metadata": {},
   "outputs": [],
   "source": [
    "import random"
   ]
  },
  {
   "cell_type": "code",
   "execution_count": 61,
   "metadata": {},
   "outputs": [],
   "source": [
    "rock = '''\n",
    "    _______\n",
    "---'   ____)\n",
    "      (_____)\n",
    "      (_____)\n",
    "      (____)\n",
    "---.__(___)\n",
    "'''\n",
    "\n",
    "paper = '''\n",
    "    _______\n",
    "---'   ____)____\n",
    "          ______)\n",
    "          _______)\n",
    "         _______)\n",
    "---.__________)\n",
    "'''\n",
    "\n",
    "scissors = '''\n",
    "    _______\n",
    "---'   ____)____\n",
    "          ______)\n",
    "       __________)\n",
    "      (____)\n",
    "---.__(___)\n",
    "'''\n",
    "game_images = [rock,paper,scissors] #making list of of items\n",
    "name=['Rock','Paper','Scissors']"
   ]
  },
  {
   "cell_type": "code",
   "execution_count": 65,
   "metadata": {},
   "outputs": [
    {
     "name": "stdin",
     "output_type": "stream",
     "text": [
      "What do you choose?\n",
      "Type 0 for Rock \n",
      "Type 1 for Paper \n",
      "Type 2 for Scissors\n",
      " 0\n"
     ]
    },
    {
     "name": "stdout",
     "output_type": "stream",
     "text": [
      "User choice : Rock \n",
      "    _______\n",
      "---'   ____)\n",
      "      (_____)\n",
      "      (_____)\n",
      "      (____)\n",
      "---.__(___)\n",
      " \n",
      "\n",
      "Computer choice : Scissors \n",
      "    _______\n",
      "---'   ____)____\n",
      "          ______)\n",
      "       __________)\n",
      "      (____)\n",
      "---.__(___)\n",
      "\n",
      "You Lose!\n"
     ]
    }
   ],
   "source": [
    "\n",
    "\n",
    "user_choice = int(input(\"What do you choose?\\n\" \n",
    "                    \"Type 0 for Rock \\n\"\n",
    "                    \"Type 1 for Paper \\n\"\n",
    "                    \"Type 2 for Scissors\\n\"\n",
    "                    ))\n",
    "\n",
    "computer_choice = random.randint(0,2)\n",
    "\n",
    "\n",
    "#creating all the logics \n",
    "if( user_choice >=3 or user_choice<0):\n",
    "    print('You Enter Invild Number and You Lose!!!')\n",
    "else:\n",
    "    print(\"User choice :\",name[user_choice],game_images[user_choice],'\\n')\n",
    "    print(\"Computer choice :\",name[computer_choice],game_images[computer_choice])\n",
    "    if (computer_choice > user_choice):\n",
    "        print('You Lose!')\n",
    "    elif (user_choice==0 and computer_choice==2):\n",
    "        print('You Win!')\n",
    "    elif(user_choice==computer_choice):\n",
    "        print('Game is Draw!')\n",
    "    elif(computer_choice < user_choice):\n",
    "        print('You Win!')\n",
    "    elif(user_choice==2 and computer_choice==0):\n",
    "        print('You Lose!')"
   ]
  },
  {
   "cell_type": "code",
   "execution_count": null,
   "metadata": {},
   "outputs": [],
   "source": []
  }
 ],
 "metadata": {
  "kernelspec": {
   "display_name": "Python 3",
   "language": "python",
   "name": "python3"
  },
  "language_info": {
   "codemirror_mode": {
    "name": "ipython",
    "version": 3
   },
   "file_extension": ".py",
   "mimetype": "text/x-python",
   "name": "python",
   "nbconvert_exporter": "python",
   "pygments_lexer": "ipython3",
   "version": "3.8.5"
  }
 },
 "nbformat": 4,
 "nbformat_minor": 4
}
